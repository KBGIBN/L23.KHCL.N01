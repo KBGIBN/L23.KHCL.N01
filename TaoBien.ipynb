{
 "cells": [
  {
   "cell_type": "markdown",
   "metadata": {
    "id": "s7NeYWq9KL1r"
   },
   "source": [
    "# __Tảo biển__\n",
    "Tảo biển sinh sản rất nhanh khi có môi trường thuận lợi với chúng và có những loài còn tiết ra môi trường những chất độc hại.\n",
    "\n",
    "Một loại tảo nâu trong môi trường nước bị ô nhiễm nặng sinh sản theo quy luật sau:\n",
    "\n",
    "* Ngày đầu tiên (ngày 0) có ___n___ cá thể ở mức 1,\n",
    "* Ở mỗi ngày tiếp theo, mỗi cá thể mức ___i___ sinh ra ___i___ cá thể mức 1, các cá thể mới sinh sẽ sinh sôi, phát triển từ ngày hôm sau.\n",
    "* Bản thân các cá thể mức i phát triển thành mức ___i___+1 và chu kỳ phát triển trong ngày chấm dứt.\n",
    "\n",
    "Hãy xác định sau ___k___ ngày trong nước biển có bao nhiêu cá thể.\n",
    "\n",
    "___Dữ liệu___: Vào từ thiết bị nhập chuẩn gồm một dòng chứa 2 số nguyên ___n___ và ___k___ (1 ≤ ___n___ ≤ 1000, 1 ≤ ___k___ ≤ 10<sup>17</sup> ).\n",
    "\n",
    "___Kết quả___: Đưa ra thiết bị xuất chuẩn một số nguyên – số lượng cá thể  tảo theo mô đun 10<sup>9</sup> + 7\n",
    "\n",
    "___Ví dụ___:\n",
    "\n",
    "INPUT: 3 2\n",
    "\n",
    "OUTPUT: 15\n"
   ]
  },
  {
   "cell_type": "markdown",
   "metadata": {
    "id": "sH4llzgMNfDE"
   },
   "source": [
    "## __Decomposition__\n"
   ]
  },
  {
   "cell_type": "markdown",
   "metadata": {
    "id": "5VUUWqOcUWmB"
   },
   "source": [
    "Dựa vào dữ kiện đề bài, lập một bảng thống kê số liệu các kết quả của bài toán qua 5 lần input, với số tảo biển ban đầu n=1 và số ngày k lần lượt từ k=0 đến k=4 như sau (__bảng 1__):"
   ]
  },
  {
   "cell_type": "markdown",
   "metadata": {
    "id": "0fNRxc3aTUYy"
   },
   "source": [
    "| Ngày/Mức |  1  |  2 |  3 | 4 | 5 | 6 | 7 | 8 | Tổng số cá thể |\n",
    "|----------|:---:|:--:|:--:|:-:|:-:|:-:|:-:|:-:|:--------------:|\n",
    "|     0    |  1  |    |    |   |   |   |   |   |        1       |\n",
    "|     1    |  1  |  1 |    |   |   |   |   |   |        2       |\n",
    "|     2    |  3  |  1 |  1 |   |   |   |   |   |        5       |\n",
    "|     3    |  8  |  3 |  1 | 1 |   |   |   |   |       13       |\n",
    "|     4    |  21 |  8 |  3 | 1 | 1 |   |   |   |       34       |\n",
    "|     5    |  55 | 21 |  8 | 3 | 1 | 1 |   |   |       89       |\n",
    "|     6    | 144 | 55 | 21 | 8 | 3 | 1 | 1 |   |       233      |"
   ]
  },
  {
   "cell_type": "markdown",
   "metadata": {
    "id": "slMz8nHZTYLB"
   },
   "source": [
    "Từ kết quả của bảng trên, nhận thấy đây chính là một phần của dãy Fibonacci! Với dãy Fibonacci, ta có (__bảng 2__):"
   ]
  },
  {
   "cell_type": "markdown",
   "metadata": {
    "id": "1646rbYcTeFA"
   },
   "source": [
    "|       k      | 1 | 2 | 3 | 4 | 5 | 6 |  7 |  8 |  9 | 10 | 11 |  12 |  13 |               k(k > 0)              |\n",
    "|:------------:|:-:|:-:|:-:|:-:|:-:|:-:|:--:|:--:|:--:|:--:|:--:|:---:|:---:|:-----------------------------------:|\n",
    "| Fibonacci(k) | 1 | 1 | 2 | 3 | 5 | 8 | 13 | 21 | 34 | 55 | 89 | 144 | 233 | Fibonacci(k - 1) + Fibonacci(k - 2) |"
   ]
  },
  {
   "cell_type": "markdown",
   "metadata": {
    "id": "dSDkdnj1UiNC"
   },
   "source": [
    "Từ __bảng 1__ và __bảng 2__, ta có thể thấy kết quả của __bảng 1__ ở mốc k (ngày thứ k) sẽ bằng kết quả của __bảng 2__ ở mốc 2k + 1.\n",
    "\n",
    "Với điều kiện xuất đi kèm của bài toán, ta sẽ chia lấy dư kết quả trên với 10 <sup> 9 </sup> + 7"
   ]
  },
  {
   "cell_type": "markdown",
   "metadata": {
    "id": "DIFpgimjNheO"
   },
   "source": [
    "## __Abstraction__"
   ]
  },
  {
   "cell_type": "markdown",
   "metadata": {
    "id": "ikiH0XsZU1Hk"
   },
   "source": [
    "Như vậy, tổng hợp từ các kết quả phân tích được ở trên, ta có thể giản lược lại bài toán (Abstraction) như sau:\n",
    "\n",
    "__Cho n, k ∈  Z (với 1 ≤  n  ≤ 1000, 1 ≤  k  ≤ 10<sup>5</sup>). Tính (n * Fibonacci(2k + 1)) % (10^9 + 7).__\n"
   ]
  },
  {
   "cell_type": "markdown",
   "metadata": {
    "id": "ZuYCahmQNmGP"
   },
   "source": [
    "## __Pattern Recognition__"
   ]
  },
  {
   "cell_type": "markdown",
   "metadata": {
    "id": "61VPCyiYV6Ap"
   },
   "source": [
    "Dạng bài toán trở thành việc định nghĩa một hàm tính fibonacci. Vì vậy có rất nhiều cách để thực hiện nó song tụi em xin trình bày cách tiếp cận dựa trên quy hoạch động:\n",
    "\n",
    "- Gọi $fibo(k)$ là hàm tính fibonnaci, nếu $k ≤ 2$ thì ta trả về 1. \n",
    "- Ngược lại, cho $a_1, b_1 = 1$; ta duyệt $i$ trong khoảng $[2, k - 1]$ và tính chuỗi phép tính $c = a_i + b_i$; $a_i, b_i = b_i, c$. Sau khi hoàn thành vòng lặp, ta trả về $b_i$\n",
    "- Kết quả cuối cùng của bài toán là $(n * fibo(k)) \\bmod (10^9 + 7)$\n",
    "\n"
   ]
  },
  {
   "cell_type": "markdown",
   "metadata": {
    "id": "NHKzxzf2GnIc"
   },
   "source": [
    "## __Time and space complexity__"
   ]
  },
  {
   "cell_type": "markdown",
   "metadata": {
    "id": "m6WUTsWjH1RR"
   },
   "source": [
    "Nếu 2k + 1 > 2, ta cần duyệt từ 2 đến k - 1 để thực hiện 2 phép toán cơ bản, vì vậy độ phức tạp của thuật toán này là $O(N)$"
   ]
  },
  {
   "cell_type": "markdown",
   "metadata": {
    "id": "UrE1olgpNnuv"
   },
   "source": [
    "## __Programming__"
   ]
  },
  {
   "cell_type": "code",
   "execution_count": 1,
   "metadata": {
    "colab": {
     "base_uri": "https://localhost:8080/"
    },
    "id": "9sPnj1kFXD9R",
    "outputId": "d5985462-d0ae-4fc3-9fb0-43f161e55134"
   },
   "outputs": [
    {
     "name": "stdout",
     "output_type": "stream",
     "text": [
      "3 2\n",
      "15\n"
     ]
    }
   ],
   "source": [
    "n,k = map(int,input().split())\n",
    "def fibo(n):\n",
    "    f0 = 0\n",
    "    f1 = 1\n",
    "    fn = 1\n",
    "    if (n == 1):\n",
    "        return n\n",
    "    else:\n",
    "        for i in range(2, n):\n",
    "            f0 = f1\n",
    "            f1 = fn\n",
    "            fn = f0 + f1\n",
    "        return fn\n",
    "print((n * fibo(2*k + 1)) % (10**9 + 7))"
   ]
  },
  {
   "cell_type": "code",
   "execution_count": null,
   "metadata": {},
   "outputs": [],
   "source": []
  }
 ],
 "metadata": {
  "colab": {
   "name": "CS112: Tảo biển.ipynb",
   "provenance": []
  },
  "kernelspec": {
   "display_name": "Python 3",
   "language": "python",
   "name": "python3"
  },
  "language_info": {
   "codemirror_mode": {
    "name": "ipython",
    "version": 3
   },
   "file_extension": ".py",
   "mimetype": "text/x-python",
   "name": "python",
   "nbconvert_exporter": "python",
   "pygments_lexer": "ipython3",
   "version": "3.8.5"
  }
 },
 "nbformat": 4,
 "nbformat_minor": 1
}
