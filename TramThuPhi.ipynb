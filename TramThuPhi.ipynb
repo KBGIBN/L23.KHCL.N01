{
 "cells": [
  {
   "cell_type": "markdown",
   "metadata": {
    "id": "dskhq7OT9ojT"
   },
   "source": [
    "# __BOT__\n",
    "\n",
    "**BOT** (_Built-Operation-Transfer_, có nghĩa: Xây dựng-Vận hành-Chuyển giao) là hình thức Chính phủ kêu gọi các công ty bỏ vốn xây dựng trước (_Built_) thông qua đấu thầu, sau đó khai thác vận hành một thời gian (_Operation_) và sau cùng là chuyển giao (_Transfer_) lại cho nhà nước sở tại.\n",
    "\n",
    "Đường cao tốc xuyên quốc gia được xây dựng theo hình thức BOT. Công ty Đa quốc gia _Modern Highway_ trúng thầu, chia toàn bộ con đường thành ___n___ đoạn. Theo tính toán của Công ty sau khi chuyển giao con đường cho chính phủ sở tại quản lý thì lãi thu được ở đoạn đường thứ ___i___ là ___a<sub>i</sub>___, ___a<sub>i</sub>___ có thể dương, âm hoặc bằng 0, tức là với từng đoạn con có thể lãi, lỗ hoặc hòa vốn. Từng nhóm các đoạn đường liên tiếp nhau (gọi tắt là khoảng) được chia cho các công ty con thực hiện. Công ty con _ASEAM Highway_ hiện đang có trụ sở ở nước sở tại được quyền chọn trước khoảng tùy ý (có thể là cả con đường).\n",
    "\n",
    "Dĩ nhiên Ban Giám đốc _ASEAM Highway_ muốn chọn khoảng bắt đầu từ đoạn ___p___ đến hết đoạn ___q___ mang lại lợi nhuận cao nhất hoặc lỗ ít nhất nếu không có khoảng nào cho lãi.\n",
    "\n",
    "Hãy chỉ ra khoảng cần chọn và lãi thu được. Nếu có nhiều cách chọn thì chỉ ra cách chọn có ___p___ nhỏ nhất.\n",
    "\n",
    "**Dữ liệu**: Vào từ thiết bị nhập chuẩn:\n",
    "\n",
    "* Dòng đầu tiên chứa số nguyên ___n___ (1 ≤ ___n___ ≤ 106),\n",
    "* Dòng thứ 2 chứa ___n___ số nguyên ___a<sub>1</sub>___, ___a<sub>2</sub>___, . . ., ___a<sub>n</sub>___ (0 ≤ |___a<sub>i</sub>___| ≤ 109, ___i___ = 1 ÷ ___n___).\n",
    "\n",
    "**Kết quả**: Đưa ra thiết bị xuất chuẩn trên một dòng 2 số nguyên ___p___, ___q___ và lãi thu được.\n",
    "\n",
    "**Ví dụ**:\n",
    "\n",
    "INPUT: \n",
    "\n",
    "16\n",
    "\n",
    "2 -4 5 -8 4 -1 -1 1 1 1 -2 2 4 -6 9 -4\n",
    "\n",
    "OUTPUT:\n",
    "\n",
    "5 15 12"
   ]
  },
  {
   "cell_type": "markdown",
   "metadata": {
    "id": "G_Qll5cV_Plp"
   },
   "source": [
    "# __Abstraction__"
   ]
  },
  {
   "cell_type": "markdown",
   "metadata": {
    "id": "wNpwHlRwFbqn"
   },
   "source": [
    "Cho một dãy số $a$ gồm $n$ phần tử, tìm cặp số $(i, j)$ sao cho biểu thức sau đạt giá trị lớn nhất.\n",
    "\n",
    "$S_{i,j}$ = $a_{i}$ + $a_{i+1}$ + ... + $a_{j-1}$ + $a_{j}$"
   ]
  },
  {
   "cell_type": "markdown",
   "metadata": {
    "id": "9WBizkyI_Urh"
   },
   "source": [
    "# __Algorithm Designed__"
   ]
  },
  {
   "cell_type": "markdown",
   "metadata": {
    "id": "gRhJZ3FD3Yt3"
   },
   "source": [
    "**Thuật toán Dynamic Programing**"
   ]
  },
  {
   "cell_type": "markdown",
   "metadata": {
    "id": "SLz95b5Xzfj-"
   },
   "source": [
    "Ở đây chúng em dùng thuật toán Kadane, là chia bài toán thành nhiều bài toán nhỏ hơn , bằng cách tìm dãy con có tổng lớn nhất kết thúc tại vị trí k trong dãy. Khi đó sẽ có 2 trường hợp xảy ra: \n",
    "+ Dãy con chỉ chứa phần thử thứ k. So sánh best với phần tử thứ k để cập nhật giá trị lớn nhất. \n",
    "+Dãy con chứa phần tử thứ k – 1. Cập nhật tổng mới dựa trên tổng của dãy con k-1 và cộng them phần tử thứ k. So sánh tổng mới với best để cập nhật giá trị lớn nhất\n",
    "\n"
   ]
  },
  {
   "cell_type": "markdown",
   "metadata": {},
   "source": [
    "# __Time Complexity__"
   ]
  },
  {
   "cell_type": "markdown",
   "metadata": {},
   "source": [
    "+ Độ phức tạp của thuật toán trên là O(n)"
   ]
  },
  {
   "cell_type": "markdown",
   "metadata": {},
   "source": [
    "# __Programing__"
   ]
  },
  {
   "cell_type": "code",
   "execution_count": 2,
   "metadata": {
    "id": "jGcWi6561nWM"
   },
   "outputs": [
    {
     "name": "stdout",
     "output_type": "stream",
     "text": [
      "16\n",
      "2 -4 5 -8 4 -1 -1 1 1 1 -2 2 4 -6 9 -4\n",
      "5 15 12\n"
     ]
    }
   ],
   "source": [
    "def max_subarray(A):\n",
    "    best = int(-10000)\n",
    "    sum = int(0)\n",
    "    best_start = int(0)\n",
    "    best_end = int(0)\n",
    "    current_start = int(0)\n",
    "    for i in range(n):\n",
    "        if (sum + A[i] < A[i]):\n",
    "            current_start = i\n",
    "            sum = A[i]\n",
    "        else:\n",
    "            sum += A[i]\n",
    "        \n",
    "        if (best < sum):\n",
    "            best = sum\n",
    "            best_start = current_start\n",
    "            best_end = i\n",
    "    result = [best_start + 1, best_end + 1, best]\n",
    "    return result\n",
    "\n",
    "n = int(input())\n",
    "a = list(map(int,input().split()))\n",
    "\n",
    "res = max_subarray(a)\n",
    "print(res[0], res[1], res[2])"
   ]
  },
  {
   "cell_type": "code",
   "execution_count": null,
   "metadata": {},
   "outputs": [],
   "source": []
  }
 ],
 "metadata": {
  "colab": {
   "collapsed_sections": [],
   "name": "Copy of CS112: Trạm thu phí (BOT).ipynb",
   "provenance": []
  },
  "kernelspec": {
   "display_name": "Python 3",
   "language": "python",
   "name": "python3"
  },
  "language_info": {
   "codemirror_mode": {
    "name": "ipython",
    "version": 3
   },
   "file_extension": ".py",
   "mimetype": "text/x-python",
   "name": "python",
   "nbconvert_exporter": "python",
   "pygments_lexer": "ipython3",
   "version": "3.8.5"
  }
 },
 "nbformat": 4,
 "nbformat_minor": 1
}
